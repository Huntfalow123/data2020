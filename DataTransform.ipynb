{
  "nbformat": 4,
  "nbformat_minor": 0,
  "metadata": {
    "colab": {
      "name": "DataTransform.ipynb",
      "provenance": [],
      "collapsed_sections": [],
      "authorship_tag": "ABX9TyPeHTsmoKJrsfKLndvciWQ7",
      "include_colab_link": true
    },
    "kernelspec": {
      "name": "python3",
      "display_name": "Python 3"
    }
  },
  "cells": [
    {
      "cell_type": "markdown",
      "metadata": {
        "id": "view-in-github",
        "colab_type": "text"
      },
      "source": [
        "<a href=\"https://colab.research.google.com/github/Huntfalow123/data2020/blob/master/DataTransform.ipynb\" target=\"_parent\"><img src=\"https://colab.research.google.com/assets/colab-badge.svg\" alt=\"Open In Colab\"/></a>"
      ]
    },
    {
      "cell_type": "code",
      "metadata": {
        "id": "ap-ZvfNzf95r",
        "outputId": "59a8ec42-ecaf-43ce-8a9f-43ec15eee814",
        "colab": {
          "base_uri": "https://localhost:8080/",
          "height": 153
        }
      },
      "source": [
        "from google.colab import drive\n",
        "import pandas as pd\n",
        "import io\n",
        "!pip install country_converter\n",
        "!pip install pycountry\n",
        "import pycountry\n",
        "import country_converter as coco\n",
        "drive.mount('/content/drive')"
      ],
      "execution_count": 31,
      "outputs": [
        {
          "output_type": "stream",
          "text": [
            "Requirement already satisfied: country_converter in /usr/local/lib/python3.6/dist-packages (0.7.0)\n",
            "Requirement already satisfied: pandas>=0.17.0 in /usr/local/lib/python3.6/dist-packages (from country_converter) (1.1.2)\n",
            "Requirement already satisfied: numpy>=1.15.4 in /usr/local/lib/python3.6/dist-packages (from pandas>=0.17.0->country_converter) (1.18.5)\n",
            "Requirement already satisfied: python-dateutil>=2.7.3 in /usr/local/lib/python3.6/dist-packages (from pandas>=0.17.0->country_converter) (2.8.1)\n",
            "Requirement already satisfied: pytz>=2017.2 in /usr/local/lib/python3.6/dist-packages (from pandas>=0.17.0->country_converter) (2018.9)\n",
            "Requirement already satisfied: six>=1.5 in /usr/local/lib/python3.6/dist-packages (from python-dateutil>=2.7.3->pandas>=0.17.0->country_converter) (1.15.0)\n",
            "Requirement already satisfied: pycountry in /usr/local/lib/python3.6/dist-packages (20.7.3)\n",
            "Drive already mounted at /content/drive; to attempt to forcibly remount, call drive.mount(\"/content/drive\", force_remount=True).\n"
          ],
          "name": "stdout"
        }
      ]
    },
    {
      "cell_type": "code",
      "metadata": {
        "id": "tx1F12Auf_IR",
        "outputId": "f1ff5460-a1e3-49f1-a62b-0abeb2a0a41e",
        "colab": {
          "base_uri": "https://localhost:8080/",
          "height": 105
        }
      },
      "source": [
        "Global_Mobility = pd.read_csv('/content/drive/My Drive/Datasets/00 Core/Community mobility reports/Global_Mobility_Report.csv')\n",
        "Covid_Response = pd.read_csv('/content/drive/My Drive/Datasets/00 Core/Novel Coronavirus 2019 datasets/covid_19_data.csv')\n",
        "Government_Reponse = pd.read_csv('/content/drive/My Drive/Datasets/00 Core/Oxford Covid-19 Government Response Tracker/OxCGRT_latest.csv')"
      ],
      "execution_count": 32,
      "outputs": [
        {
          "output_type": "stream",
          "text": [
            "/usr/local/lib/python3.6/dist-packages/IPython/core/interactiveshell.py:2718: DtypeWarning: Columns (4) have mixed types.Specify dtype option on import or set low_memory=False.\n",
            "  interactivity=interactivity, compiler=compiler, result=result)\n",
            "/usr/local/lib/python3.6/dist-packages/IPython/core/interactiveshell.py:2718: DtypeWarning: Columns (2,3) have mixed types.Specify dtype option on import or set low_memory=False.\n",
            "  interactivity=interactivity, compiler=compiler, result=result)\n"
          ],
          "name": "stderr"
        }
      ]
    },
    {
      "cell_type": "markdown",
      "metadata": {
        "id": "y_wEau-egwE7"
      },
      "source": [
        ""
      ]
    },
    {
      "cell_type": "code",
      "metadata": {
        "id": "8N6gu7bLl3hQ",
        "outputId": "a7f1644e-ad26-4c98-bc67-617a4df62e07",
        "colab": {
          "base_uri": "https://localhost:8080/",
          "height": 34
        }
      },
      "source": [
        "Global_Mobility.dropna(subset=['country_region_code', 'date'],inplace=True)\n",
        "countries = {}\n",
        "for country in pycountry.countries:\n",
        "    countries[country.alpha_2] = country.alpha_3\n",
        "Global_Mobility['country_region_code'].replace(countries, inplace=True)\n",
        "Global_Mobility = Global_Mobility[['country_region_code','date','retail_and_recreation_percent_change_from_baseline','grocery_and_pharmacy_percent_change_from_baseline','parks_percent_change_from_baseline','transit_stations_percent_change_from_baseline','workplaces_percent_change_from_baseline','residential_percent_change_from_baseline']]\n",
        "print(Global_Mobility['country_region_code'].drop_duplicates().isna().sum())"
      ],
      "execution_count": 33,
      "outputs": [
        {
          "output_type": "stream",
          "text": [
            "0\n"
          ],
          "name": "stdout"
        }
      ]
    },
    {
      "cell_type": "code",
      "metadata": {
        "id": "3H4jQhEjody5"
      },
      "source": [
        "Global_Mobility.update(Global_Mobility.sort_values(['country_region_code','date'],ascending=True).groupby('country_region_code').ffill())"
      ],
      "execution_count": 55,
      "outputs": []
    },
    {
      "cell_type": "code",
      "metadata": {
        "id": "19sKKETTqEbx",
        "outputId": "21225f72-985a-4a83-87b8-f38d35cb00fe",
        "colab": {
          "base_uri": "https://localhost:8080/",
          "height": 170
        }
      },
      "source": [
        "print(Global_Mobility.isna().sum())"
      ],
      "execution_count": 48,
      "outputs": [
        {
          "output_type": "stream",
          "text": [
            "country_region_code                                     0\n",
            "date                                                    0\n",
            "retail_and_recreation_percent_change_from_baseline      0\n",
            "grocery_and_pharmacy_percent_change_from_baseline       3\n",
            "parks_percent_change_from_baseline                    220\n",
            "transit_stations_percent_change_from_baseline         228\n",
            "workplaces_percent_change_from_baseline                 2\n",
            "residential_percent_change_from_baseline              954\n",
            "dtype: int64\n"
          ],
          "name": "stdout"
        }
      ]
    },
    {
      "cell_type": "code",
      "metadata": {
        "id": "Ax1JIyKYtENu",
        "outputId": "368a9169-d00a-43ee-d9c3-a19c702c8626",
        "colab": {
          "base_uri": "https://localhost:8080/",
          "height": 102
        }
      },
      "source": [
        "SchoolC = Government_Reponse[['CountryCode','Date','C1_Flag']]\n",
        "SchoolC.dropna(inplace=True)"
      ],
      "execution_count": 51,
      "outputs": [
        {
          "output_type": "stream",
          "text": [
            "/usr/local/lib/python3.6/dist-packages/ipykernel_launcher.py:2: SettingWithCopyWarning: \n",
            "A value is trying to be set on a copy of a slice from a DataFrame\n",
            "\n",
            "See the caveats in the documentation: https://pandas.pydata.org/pandas-docs/stable/user_guide/indexing.html#returning-a-view-versus-a-copy\n",
            "  \n"
          ],
          "name": "stderr"
        }
      ]
    },
    {
      "cell_type": "code",
      "metadata": {
        "id": "oyBrRGwQ4R62",
        "outputId": "8c4d1925-58c3-40fc-ab25-51ed3bb6449e",
        "colab": {
          "base_uri": "https://localhost:8080/",
          "height": 419
        }
      },
      "source": [
        "SchoolC['School_Date'] = pd"
      ],
      "execution_count": 54,
      "outputs": [
        {
          "output_type": "execute_result",
          "data": {
            "text/html": [
              "<div>\n",
              "<style scoped>\n",
              "    .dataframe tbody tr th:only-of-type {\n",
              "        vertical-align: middle;\n",
              "    }\n",
              "\n",
              "    .dataframe tbody tr th {\n",
              "        vertical-align: top;\n",
              "    }\n",
              "\n",
              "    .dataframe thead th {\n",
              "        text-align: right;\n",
              "    }\n",
              "</style>\n",
              "<table border=\"1\" class=\"dataframe\">\n",
              "  <thead>\n",
              "    <tr style=\"text-align: right;\">\n",
              "      <th></th>\n",
              "      <th>CountryCode</th>\n",
              "      <th>Date</th>\n",
              "      <th>C1_Flag</th>\n",
              "    </tr>\n",
              "  </thead>\n",
              "  <tbody>\n",
              "    <tr>\n",
              "      <th>75</th>\n",
              "      <td>ABW</td>\n",
              "      <td>20200316</td>\n",
              "      <td>1.0</td>\n",
              "    </tr>\n",
              "    <tr>\n",
              "      <th>76</th>\n",
              "      <td>ABW</td>\n",
              "      <td>20200317</td>\n",
              "      <td>1.0</td>\n",
              "    </tr>\n",
              "    <tr>\n",
              "      <th>77</th>\n",
              "      <td>ABW</td>\n",
              "      <td>20200318</td>\n",
              "      <td>1.0</td>\n",
              "    </tr>\n",
              "    <tr>\n",
              "      <th>78</th>\n",
              "      <td>ABW</td>\n",
              "      <td>20200319</td>\n",
              "      <td>1.0</td>\n",
              "    </tr>\n",
              "    <tr>\n",
              "      <th>79</th>\n",
              "      <td>ABW</td>\n",
              "      <td>20200320</td>\n",
              "      <td>1.0</td>\n",
              "    </tr>\n",
              "    <tr>\n",
              "      <th>...</th>\n",
              "      <td>...</td>\n",
              "      <td>...</td>\n",
              "      <td>...</td>\n",
              "    </tr>\n",
              "    <tr>\n",
              "      <th>66507</th>\n",
              "      <td>ZWE</td>\n",
              "      <td>20200924</td>\n",
              "      <td>1.0</td>\n",
              "    </tr>\n",
              "    <tr>\n",
              "      <th>66508</th>\n",
              "      <td>ZWE</td>\n",
              "      <td>20200925</td>\n",
              "      <td>1.0</td>\n",
              "    </tr>\n",
              "    <tr>\n",
              "      <th>66509</th>\n",
              "      <td>ZWE</td>\n",
              "      <td>20200926</td>\n",
              "      <td>1.0</td>\n",
              "    </tr>\n",
              "    <tr>\n",
              "      <th>66510</th>\n",
              "      <td>ZWE</td>\n",
              "      <td>20200927</td>\n",
              "      <td>1.0</td>\n",
              "    </tr>\n",
              "    <tr>\n",
              "      <th>66511</th>\n",
              "      <td>ZWE</td>\n",
              "      <td>20200928</td>\n",
              "      <td>1.0</td>\n",
              "    </tr>\n",
              "  </tbody>\n",
              "</table>\n",
              "<p>41981 rows × 3 columns</p>\n",
              "</div>"
            ],
            "text/plain": [
              "      CountryCode      Date  C1_Flag\n",
              "75            ABW  20200316      1.0\n",
              "76            ABW  20200317      1.0\n",
              "77            ABW  20200318      1.0\n",
              "78            ABW  20200319      1.0\n",
              "79            ABW  20200320      1.0\n",
              "...           ...       ...      ...\n",
              "66507         ZWE  20200924      1.0\n",
              "66508         ZWE  20200925      1.0\n",
              "66509         ZWE  20200926      1.0\n",
              "66510         ZWE  20200927      1.0\n",
              "66511         ZWE  20200928      1.0\n",
              "\n",
              "[41981 rows x 3 columns]"
            ]
          },
          "metadata": {
            "tags": []
          },
          "execution_count": 54
        }
      ]
    }
  ]
}