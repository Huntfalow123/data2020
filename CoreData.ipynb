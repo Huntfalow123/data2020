{
  "nbformat": 4,
  "nbformat_minor": 0,
  "metadata": {
    "colab": {
      "name": "Untitled2.ipynb",
      "provenance": [],
      "authorship_tag": "ABX9TyPRJdf4Xe67M5dNcBA8daUM",
      "include_colab_link": true
    },
    "kernelspec": {
      "name": "python3",
      "display_name": "Python 3"
    }
  },
  "cells": [
    {
      "cell_type": "markdown",
      "metadata": {
        "id": "view-in-github",
        "colab_type": "text"
      },
      "source": [
        "<a href=\"https://colab.research.google.com/github/Huntfalow123/data2020/blob/master/CoreData.ipynb\" target=\"_parent\"><img src=\"https://colab.research.google.com/assets/colab-badge.svg\" alt=\"Open In Colab\"/></a>"
      ]
    },
    {
      "cell_type": "code",
      "metadata": {
        "id": "ap-ZvfNzf95r",
        "outputId": "870129e4-29e9-4876-a1fc-06aecc05901d",
        "colab": {
          "base_uri": "https://localhost:8080/",
          "height": 309
        }
      },
      "source": [
        "from google.colab import drive\n",
        "import pandas as pd\n",
        "import io\n",
        "!pip install country_converter\n",
        "import country_converter as coco\n",
        "drive.mount('/content/drive')"
      ],
      "execution_count": 1,
      "outputs": [
        {
          "output_type": "stream",
          "text": [
            "Collecting country_converter\n",
            "\u001b[?25l  Downloading https://files.pythonhosted.org/packages/38/48/755f56b787e95f41310812d8d205e10a67365b10bce84362719cd3ab1161/country_converter-0.7.0.tar.gz (47kB)\n",
            "\r\u001b[K     |███████                         | 10kB 19.2MB/s eta 0:00:01\r\u001b[K     |██████████████                  | 20kB 1.8MB/s eta 0:00:01\r\u001b[K     |████████████████████▉           | 30kB 2.3MB/s eta 0:00:01\r\u001b[K     |███████████████████████████▉    | 40kB 2.6MB/s eta 0:00:01\r\u001b[K     |████████████████████████████████| 51kB 1.6MB/s \n",
            "\u001b[?25hRequirement already satisfied: pandas>=0.17.0 in /usr/local/lib/python3.6/dist-packages (from country_converter) (1.1.2)\n",
            "Requirement already satisfied: python-dateutil>=2.7.3 in /usr/local/lib/python3.6/dist-packages (from pandas>=0.17.0->country_converter) (2.8.1)\n",
            "Requirement already satisfied: numpy>=1.15.4 in /usr/local/lib/python3.6/dist-packages (from pandas>=0.17.0->country_converter) (1.18.5)\n",
            "Requirement already satisfied: pytz>=2017.2 in /usr/local/lib/python3.6/dist-packages (from pandas>=0.17.0->country_converter) (2018.9)\n",
            "Requirement already satisfied: six>=1.5 in /usr/local/lib/python3.6/dist-packages (from python-dateutil>=2.7.3->pandas>=0.17.0->country_converter) (1.15.0)\n",
            "Building wheels for collected packages: country-converter\n",
            "  Building wheel for country-converter (setup.py) ... \u001b[?25l\u001b[?25hdone\n",
            "  Created wheel for country-converter: filename=country_converter-0.7.0-cp36-none-any.whl size=50505 sha256=88a4fd073d3666fd9f6f587152cb9e1922767b87150ccea7515a93caee459c61\n",
            "  Stored in directory: /root/.cache/pip/wheels/b6/06/72/b7899b1e4b978ae12e906b2ba746e4bdd36d4806bacfdbbe4d\n",
            "Successfully built country-converter\n",
            "Installing collected packages: country-converter\n",
            "Successfully installed country-converter-0.7.0\n",
            "Mounted at /content/drive\n"
          ],
          "name": "stdout"
        }
      ]
    },
    {
      "cell_type": "code",
      "metadata": {
        "id": "tx1F12Auf_IR",
        "outputId": "752ca5cd-2adc-4c2a-fcd4-7e5371bb2b8c",
        "colab": {
          "base_uri": "https://localhost:8080/",
          "height": 105
        }
      },
      "source": [
        "Global_Mobility = pd.read_csv('/content/drive/My Drive/Datasets/00 Core/Community mobility reports/Global_Mobility_Report.csv')\n",
        "Covid_Response = pd.read_csv('/content/drive/My Drive/Datasets/00 Core/Novel Coronavirus 2019 datasets/covid_19_data.csv')\n",
        "Government_Reponse = pd.read_csv('/content/drive/My Drive/Datasets/00 Core/Oxford Covid-19 Government Response Tracker/OxCGRT_latest.csv')"
      ],
      "execution_count": 3,
      "outputs": [
        {
          "output_type": "stream",
          "text": [
            "/usr/local/lib/python3.6/dist-packages/IPython/core/interactiveshell.py:2718: DtypeWarning: Columns (4) have mixed types.Specify dtype option on import or set low_memory=False.\n",
            "  interactivity=interactivity, compiler=compiler, result=result)\n",
            "/usr/local/lib/python3.6/dist-packages/IPython/core/interactiveshell.py:2718: DtypeWarning: Columns (2,3) have mixed types.Specify dtype option on import or set low_memory=False.\n",
            "  interactivity=interactivity, compiler=compiler, result=result)\n"
          ],
          "name": "stderr"
        }
      ]
    },
    {
      "cell_type": "markdown",
      "metadata": {
        "id": "y_wEau-egwE7"
      },
      "source": [
        ""
      ]
    },
    {
      "cell_type": "code",
      "metadata": {
        "id": "HdPOMokPgGoM",
        "outputId": "abbc73e9-211d-436a-9364-86e7aef1b1c7",
        "colab": {
          "base_uri": "https://localhost:8080/",
          "height": 34
        }
      },
      "source": [
        "print(Global_Mobility['country_region_code'].drop_duplicates().isna().sum())\n",
        "cc = coco.CountryConverter()\n",
        "Global_Mobility['country_region_code'] = cc.convert(names=list(Global_Mobility['country_region_code']), to='ISO3')\n",
        "Global_Mobility"
      ],
      "execution_count": null,
      "outputs": [
        {
          "output_type": "stream",
          "text": [
            "1\n"
          ],
          "name": "stdout"
        }
      ]
    }
  ]
}